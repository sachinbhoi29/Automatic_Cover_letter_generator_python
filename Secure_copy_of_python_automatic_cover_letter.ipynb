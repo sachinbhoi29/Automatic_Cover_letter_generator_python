{
 "cells": [
  {
   "cell_type": "code",
   "execution_count": 60,
   "metadata": {},
   "outputs": [],
   "source": [
    "from docx import Document"
   ]
  },
  {
   "cell_type": "code",
   "execution_count": 61,
   "metadata": {},
   "outputs": [],
   "source": [
    "import re\n",
    "from docx import Document\n",
    "\n",
    "def docx_replace_regex(doc_obj, regex , replace):\n",
    " \n",
    "    for p in doc_obj.paragraphs:\n",
    "        if regex.search(p.text):\n",
    "            inline = p.runs  \n",
    "            #Loop added to work with runs (strings with same style)\n",
    "            for i in range(len(inline)):\n",
    "                if regex.search(inline[i].text):\n",
    "                    text = regex.sub(replace, inline[i].text)\n",
    "                    inline[i].text = text\n",
    " \n",
    "var1 = re.compile(r\"var1\") \n",
    "Name_of_the_person = r\"Sachin\"                       # Name of the person \n",
    "filename = \"1Sample_cover_letter_CFD_Job.docx\"\n",
    "doc = Document(filename)\n",
    "docx_replace_regex(doc, var1, Name_of_the_person)\n",
    "doc.save('1Cover_letter_job_company_country.docx')"
   ]
  },
  {
   "cell_type": "code",
   "execution_count": 62,
   "metadata": {},
   "outputs": [],
   "source": [
    "var2 = re.compile(r\"var2\") \n",
    "Job_position = r\"CFD Job\"                            # job position \n",
    "filename = \"1Cover_letter_job_company_country.docx\"\n",
    "doc = Document(filename)\n",
    "docx_replace_regex(doc, var2, Job_position)\n",
    "doc.save('1Cover_letter_job_company_country.docx')"
   ]
  },
  {
   "cell_type": "code",
   "execution_count": 63,
   "metadata": {},
   "outputs": [],
   "source": [
    "var3 = re.compile(r\"var3\") \n",
    "Company_name = r\"Airbus\"                              # Company name\n",
    "filename = \"1Cover_letter_job_company_country.docx\"\n",
    "doc = Document(filename)\n",
    "docx_replace_regex(doc, var3, Company_name)\n",
    "doc.save('1Cover_letter_job_company_country.docx')"
   ]
  },
  {
   "cell_type": "code",
   "execution_count": 64,
   "metadata": {},
   "outputs": [],
   "source": [
    "var4 = re.compile(r\"var4\") \n",
    "Field = r\"Aerospace engineering\"                      # Field \n",
    "filename = \"1Cover_letter_job_company_country.docx\"\n",
    "doc = Document(filename)\n",
    "docx_replace_regex(doc, var4, Field)\n",
    "doc.save('1Cover_letter_job_company_country.docx')"
   ]
  },
  {
   "cell_type": "code",
   "execution_count": 71,
   "metadata": {},
   "outputs": [
    {
     "name": "stdout",
     "output_type": "stream",
     "text": [
      "Job_cover_letter_CFDJob_Austria_Airbus-Aerospaceengineering.docx\n"
     ]
    }
   ],
   "source": [
    "var5 = re.compile(r\"var5\") \n",
    "Country = r\"Austria\"                                  # Country\n",
    "filename = \"1Cover_letter_job_company_country.docx\"\n",
    "doc = Document(filename)\n",
    "docx_replace_regex(doc, var5, Country)\n",
    "doc.save('1Cover_letter_job_company_country.docx')\n",
    "name_of_file = \"Job_cover_letter\" \"_\" + Job_position + '_' + Country + '_' + Company_name + '-' + Field + \".docx\"\n",
    "name_of_file = name_of_file.replace(\" \", \"\")\n",
    "print(name_of_file)\n",
    "doc.save(name_of_file )"
   ]
  }
 ],
 "metadata": {
  "kernelspec": {
   "display_name": "Python 3",
   "language": "python",
   "name": "python3"
  },
  "language_info": {
   "codemirror_mode": {
    "name": "ipython",
    "version": 3
   },
   "file_extension": ".py",
   "mimetype": "text/x-python",
   "name": "python",
   "nbconvert_exporter": "python",
   "pygments_lexer": "ipython3",
   "version": "3.7.4"
  }
 },
 "nbformat": 4,
 "nbformat_minor": 2
}
